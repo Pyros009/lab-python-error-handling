{
 "cells": [
  {
   "cell_type": "markdown",
   "id": "25d7736c-ba17-4aff-b6bb-66eba20fbf4e",
   "metadata": {},
   "source": [
    "# Lab | Error Handling"
   ]
  },
  {
   "cell_type": "markdown",
   "id": "bc99b386-7508-47a0-bcdb-d969deaf6c8b",
   "metadata": {},
   "source": [
    "## Exercise: Error Handling for Managing Customer Orders\n",
    "\n",
    "The implementation of your code for managing customer orders assumes that the user will always enter a valid input. \n",
    "\n",
    "For example, we could modify the `initialize_inventory` function to include error handling.\n",
    "   - If the user enters an invalid quantity (e.g., a negative value or a non-numeric value), display an error message and ask them to re-enter the quantity for that product.\n",
    "   - Use a try-except block to handle the error and continue prompting the user until a valid quantity is entered.\n",
    "\n",
    "```python\n",
    "# Step 1: Define the function for initializing the inventory with error handling\n",
    "def initialize_inventory(products):\n",
    "    inventory = {}\n",
    "    for product in products:\n",
    "        valid_quantity = False\n",
    "        while not valid_quantity:\n",
    "            try:\n",
    "                quantity = int(input(f\"Enter the quantity of {product}s available: \"))\n",
    "                if quantity < 0:\n",
    "                    raise ValueError(\"Invalid quantity! Please enter a non-negative value.\")\n",
    "                valid_quantity = True\n",
    "            except ValueError as error:\n",
    "                print(f\"Error: {error}\")\n",
    "        inventory[product] = quantity\n",
    "    return inventory\n",
    "\n",
    "# Or, in another way:\n",
    "\n",
    "def initialize_inventory(products):\n",
    "    inventory = {}\n",
    "    for product in products:\n",
    "        valid_input = False\n",
    "        while not valid_input:\n",
    "            try:\n",
    "                quantity = int(input(f\"Enter the quantity of {product}s available: \"))\n",
    "                if quantity >= 0:\n",
    "                    inventory[product] = quantity\n",
    "                    valid_input = True\n",
    "                else:\n",
    "                    print(\"Quantity cannot be negative. Please enter a valid quantity.\")\n",
    "            except ValueError:\n",
    "                print(\"Invalid input. Please enter a valid quantity.\")\n",
    "    return inventory\n",
    "```\n",
    "\n",
    "Let's enhance your code by implementing error handling to handle invalid inputs.\n",
    "\n",
    "Follow the steps below to complete the exercise:\n",
    "\n",
    "2. Modify the `calculate_total_price` function to include error handling.\n",
    "   - If the user enters an invalid price (e.g., a negative value or a non-numeric value), display an error message and ask them to re-enter the price for that product.\n",
    "   - Use a try-except block to handle the error and continue prompting the user until a valid price is entered.\n",
    "\n",
    "3. Modify the `get_customer_orders` function to include error handling.\n",
    "   - If the user enters an invalid number of orders (e.g., a negative value or a non-numeric value), display an error message and ask them to re-enter the number of orders.\n",
    "   - If the user enters an invalid product name (e.g., a product name that is not in the inventory), or that doesn't have stock available, display an error message and ask them to re-enter the product name. *Hint: you will need to pass inventory as a parameter*\n",
    "   - Use a try-except block to handle the error and continue prompting the user until a valid product name is entered.\n",
    "\n",
    "4. Test your code by running the program and deliberately entering invalid quantities and product names. Make sure the error handling mechanism works as expected.\n"
   ]
  },
  {
   "cell_type": "code",
   "execution_count": 29,
   "id": "9e4a3c75-8302-4cf9-a001-71ec677e2fdc",
   "metadata": {},
   "outputs": [],
   "source": [
    "def initialize_inventory (products):\n",
    "    \"\"\"\n",
    "    updates dictionary {products:stock}, takes [products] as arg\n",
    "\n",
    "For example, we could modify the initialize_inventory function to include error handling.\n",
    "\n",
    "If the user enters an invalid quantity (e.g., a negative value or a non-numeric value), display an error message and ask them to re-enter the quantity for that product.\n",
    "Use a try-except block to handle the error and continue prompting the user until a valid quantity is entered.\n",
    "\n",
    "    \"\"\"\n",
    "    \n",
    "    return inventory.update({product:non_neg_digit(f\"How many {product} do you have in stock:\") for product in products})\n",
    "\n",
    "def non_neg_digit(askchoice):\n",
    "    \"\"\"\n",
    "    Asks for a non-negative integer input\n",
    "    returns value on success\n",
    "    returns error on fails\n",
    "    \"\"\"\n",
    "\n",
    "    echk = True\n",
    "    while echk == True:\n",
    "        choice = input(askchoice) \n",
    "        try:\n",
    "            ichoice = int(choice)\n",
    "            assert ichoice >= 0\n",
    "        except ValueError:\n",
    "            print(\"Error: Value must be an integer\")\n",
    "        except AssertionError:\n",
    "            print(\"Error: Value must be either zero or positive integer\")    \n",
    "        else:\n",
    "            echk = False\n",
    "            return ichoice\n",
    "    \n",
    "\n",
    "    \n"
   ]
  },
  {
   "cell_type": "code",
   "execution_count": 31,
   "id": "6f551b1c-3876-4477-8b3f-85ae1f9a04b1",
   "metadata": {},
   "outputs": [],
   "source": [
    "\"\"\"\n",
    "Modify the get_customer_orders function to include error handling.\n",
    "\n",
    "If the user enters an invalid number of orders (e.g., a negative value or a non-numeric value), display an error message and ask them to re-enter the number of orders.\n",
    "If the user enters an invalid product name (e.g., a product name that is not in the inventory), or that doesn't have stock available, display an error message and ask them to re-enter the product name. Hint: you will need to pass inventory as a parameter\n",
    "Use a try-except block to handle the error and continue prompting the user until a valid product name is entered.\n",
    "\n",
    "\"\"\"\n",
    "\n",
    "def get_customer_orders():\n",
    "    ordernumber = non_neg_digit(\"Enter the quantity of customer orders: \")\n",
    "    customer_orders =  {prompt_order() for options in range(ordernumber)}\n",
    "    \n",
    "    return customer_orders\n",
    "\n",
    "def prompt_order():\n",
    "    check = False\n",
    "    while check == False:\n",
    "        order = input(\"Enter the name of a product that the customer wants to order: \")\n",
    "        if order in products:\n",
    "            check = True\n",
    "        else:    \n",
    "            print(f\"Product name error! Please pick one from the option {products}\")        \n",
    "    return order"
   ]
  },
  {
   "cell_type": "code",
   "execution_count": 33,
   "id": "ff8ace79-cae1-41ec-866c-af48976de8fa",
   "metadata": {},
   "outputs": [],
   "source": [
    "def update_inventory(customer_orders, inventory):\n",
    "    \"\"\"\n",
    "    takes [customer_orders] and {inventory} as input, outputs updated {inventory}\n",
    "    \"\"\"\n",
    "    return inventory.update({i:inventory[i]-1 for i in customer_orders})\n",
    "    "
   ]
  },
  {
   "cell_type": "code",
   "execution_count": 35,
   "id": "bf7d446b-2318-47f5-a544-8549736f41b8",
   "metadata": {},
   "outputs": [],
   "source": [
    "def calculate_order_statistics(customer_orders, products):\n",
    "    t_order = len(customer_orders)\n",
    "    uniques = int(t_order/len(products) * 100)\n",
    "    order_stat = (t_order, uniques)\n",
    "\n",
    "    return order_stat\n",
    "    "
   ]
  },
  {
   "cell_type": "code",
   "execution_count": 37,
   "id": "b61ce48a-a304-42f6-8132-ec3c0edb89cf",
   "metadata": {},
   "outputs": [],
   "source": [
    "def print_order_statistics(order_statistics):\n",
    "    print(\"\\n\", \"Total order Statistics:\")\n",
    "    print(f\"   Total products ordered is: {order_statistics[0]}\",\"\\n\",f\"  Percentage of Unique Products Ordered: {order_statistics[1]} \", \"\\n\")"
   ]
  },
  {
   "cell_type": "code",
   "execution_count": 39,
   "id": "b7d2c758-f0e3-42fb-a368-89288ee1dcbd",
   "metadata": {},
   "outputs": [],
   "source": [
    "def print_updated_inventory(inventory):\n",
    "    print(\"\\n\",\"Updated Inventory:\")\n",
    "    #for z in inventory:\n",
    "    #    print(\"    \" + z + \" : \" + str(inventory[z]))\n",
    "    [print(f\"   {item}:{quantity}\") for item, quantity in inventory.items() if quantity > 0]"
   ]
  },
  {
   "cell_type": "code",
   "execution_count": 41,
   "id": "bea7045f-99c2-44f3-ad72-07fa1411e4c6",
   "metadata": {},
   "outputs": [],
   "source": [
    "\"\"\"\n",
    "Modify the calculate_total_price function to include error handling.\n",
    "\n",
    "If the user enters an invalid price (e.g., a negative value or a non-numeric value), display an error message and ask them to re-enter the price for that product.\n",
    "Use a try-except block to handle the error and continue prompting the user until a valid price is entered.\n",
    "\n",
    "\"\"\"\n",
    "\n",
    "def total_price(customer_orders):\n",
    "    print(\"\\n\")\n",
    "    balance = [non_neg_digit(f\"Enter the price of {i}: \") for i in customer_orders]\n",
    "    print(\"\\n\")\n",
    "    return balance\n"
   ]
  },
  {
   "cell_type": "code",
   "execution_count": 43,
   "id": "2c5506c7-71b9-4f0d-9df6-a38a76112a52",
   "metadata": {},
   "outputs": [],
   "source": [
    "# 5. Print the total price of the customer order.\n",
    "\n",
    "def print_price(balance):\n",
    "    print(f\" Total price: {sum(balance)}\")"
   ]
  },
  {
   "cell_type": "code",
   "execution_count": 45,
   "id": "c8621646-7dd7-437f-b20a-31cf340823d9",
   "metadata": {},
   "outputs": [
    {
     "name": "stdin",
     "output_type": "stream",
     "text": [
      "How many t-shirt do you have in stock: -5\n"
     ]
    },
    {
     "name": "stdout",
     "output_type": "stream",
     "text": [
      "Error: Value must be either zero or positive integer\n"
     ]
    },
    {
     "name": "stdin",
     "output_type": "stream",
     "text": [
      "How many t-shirt do you have in stock: 15\n",
      "How many mug do you have in stock: 12\n",
      "How many keychain do you have in stock: -5\n"
     ]
    },
    {
     "name": "stdout",
     "output_type": "stream",
     "text": [
      "Error: Value must be either zero or positive integer\n"
     ]
    },
    {
     "name": "stdin",
     "output_type": "stream",
     "text": [
      "How many keychain do you have in stock: 7\n",
      "How many book do you have in stock: 1\n",
      "How many hat do you have in stock: 15\n",
      "Enter the quantity of customer orders:  -5\n"
     ]
    },
    {
     "name": "stdout",
     "output_type": "stream",
     "text": [
      "Error: Value must be either zero or positive integer\n"
     ]
    },
    {
     "name": "stdin",
     "output_type": "stream",
     "text": [
      "Enter the quantity of customer orders:  A\n"
     ]
    },
    {
     "name": "stdout",
     "output_type": "stream",
     "text": [
      "Error: Value must be an integer\n"
     ]
    },
    {
     "name": "stdin",
     "output_type": "stream",
     "text": [
      "Enter the quantity of customer orders:  2\n",
      "Enter the name of a product that the customer wants to order:  Belt\n"
     ]
    },
    {
     "name": "stdout",
     "output_type": "stream",
     "text": [
      "Product name error! Please pick one from the option ['t-shirt', 'mug', 'keychain', 'book', 'hat']\n"
     ]
    },
    {
     "name": "stdin",
     "output_type": "stream",
     "text": [
      "Enter the name of a product that the customer wants to order:  mug\n",
      "Enter the name of a product that the customer wants to order:  book\n"
     ]
    },
    {
     "name": "stdout",
     "output_type": "stream",
     "text": [
      "\n",
      " Total order Statistics:\n",
      "   Total products ordered is: 2 \n",
      "   Percentage of Unique Products Ordered: 40  \n",
      "\n",
      "\n",
      " Updated Inventory:\n",
      "   t-shirt:15\n",
      "   mug:11\n",
      "   keychain:7\n",
      "   hat:15\n",
      "\n",
      "\n"
     ]
    },
    {
     "name": "stdin",
     "output_type": "stream",
     "text": [
      "Enter the price of book:  A\n"
     ]
    },
    {
     "name": "stdout",
     "output_type": "stream",
     "text": [
      "Error: Value must be an integer\n"
     ]
    },
    {
     "name": "stdin",
     "output_type": "stream",
     "text": [
      "Enter the price of book:  15\n",
      "Enter the price of mug:  12\n"
     ]
    },
    {
     "name": "stdout",
     "output_type": "stream",
     "text": [
      "\n",
      "\n",
      " Total price: 27\n"
     ]
    }
   ],
   "source": [
    "products = [\"t-shirt\", \"mug\", \"keychain\", \"book\", \"hat\"]\n",
    "inventory = {}\n",
    "initialize_inventory(products)\n",
    "\n",
    "cust_order = get_customer_orders()\n",
    "ostat = calculate_order_statistics(cust_order, products)\n",
    "print_order_statistics(ostat)\n",
    "update_inventory(cust_order, inventory)\n",
    "print_updated_inventory(inventory)\n",
    "balance = total_price(cust_order)\n",
    "print_price(balance)"
   ]
  },
  {
   "cell_type": "code",
   "execution_count": null,
   "id": "5aed63c6-e398-42b4-bc11-96435a34ab94",
   "metadata": {},
   "outputs": [],
   "source": []
  }
 ],
 "metadata": {
  "kernelspec": {
   "display_name": "Python 3 (ipykernel)",
   "language": "python",
   "name": "python3"
  },
  "language_info": {
   "codemirror_mode": {
    "name": "ipython",
    "version": 3
   },
   "file_extension": ".py",
   "mimetype": "text/x-python",
   "name": "python",
   "nbconvert_exporter": "python",
   "pygments_lexer": "ipython3",
   "version": "3.12.4"
  }
 },
 "nbformat": 4,
 "nbformat_minor": 5
}
